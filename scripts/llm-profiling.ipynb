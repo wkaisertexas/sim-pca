{
 "cells": [
  {
   "cell_type": "markdown",
   "id": "9289da00-9402-4ca8-baa6-30507db492fe",
   "metadata": {},
   "source": [
    "# LLM Profiling\n",
    "\n",
    "Launching the large language models which are contained in `src/models` and using NSightCompute to profile their kernels on an **NVIDIA H100**.\n",
    "\n",
    "The goal of this is to perform principle component analysis (PCA) to examine new large language model kernels in comparision to existing GPU benchmark suites such as Rodinia."
   ]
  },
  {
   "cell_type": "code",
   "execution_count": 2,
   "id": "d76c9097-502c-4db8-928c-3d2ee8cca94f",
   "metadata": {},
   "outputs": [],
   "source": [
    "from glob import glob\n",
    "import os\n",
    "import subprocess\n",
    "\n",
    "import pandas as pd\n",
    "import numpy as np\n",
    "from time import time\n",
    "\n",
    "import matplotlib.pyplot as plt"
   ]
  },
  {
   "cell_type": "code",
   "execution_count": 3,
   "id": "935c3ac0-4b69-4399-bf94-1bc67f884b4b",
   "metadata": {
    "scrolled": true
   },
   "outputs": [
    {
     "name": "stdout",
     "output_type": "stream",
     "text": [
      "Profiling phi2.py\n",
      "ncu --replay-mode application --warp-sampling-max-passes 1 --sampling-interval auto --sampling-max-passes 5 --section SpeedOfLight --app-replay-buffer memory --apply-rules no --metrics sm__warps_active.avg.per_cycle_active,sm__warps_active.avg.pct_of_peak_sustained_active,sm__throughput.avg.pct_of_peak_sustained_elapsed,sm__maximum_warps_per_active_cycle_pct,sm__maximum_warps_avg_per_active_cycle,sm__cycles_active.avg,lts__throughput.avg.pct_of_peak_sustained_elapsed,launch__waves_per_multiprocessor,launch__thread_count,launch__shared_mem_per_block_static,launch__shared_mem_per_block_dynamic,launch__shared_mem_per_block_driver,launch__shared_mem_per_block,launch__shared_mem_config_size,launch__registers_per_thread,launch__occupancy_per_shared_mem_size,launch__occupancy_per_register_count,launch__occupancy_per_block_size,launch__occupancy_limit_warps,launch__occupancy_limit_shared_mem,launch__occupancy_limit_registers,launch__occupancy_limit_blocks,launch__grid_size,launch__func_cache_config,launch__block_size,l1tex__throughput.avg.pct_of_peak_sustained_active,gpu__time_duration.sum,gpu__compute_memory_throughput.avg.pct_of_peak_sustained_elapsed,gpc__cycles_elapsed.max,gpc__cycles_elapsed.avg.per_second,breakdown:sm__throughput.avg.pct_of_peak_sustained_elapsed,breakdown:gpu__compute_memory_throughput.avg.pct_of_peak_sustained_elapsed,launch__occupancy_per_cluster_size,launch__occupancy_cluster_pct,launch__occupancy_cluster_gpu_pct,launch__cluster_size,launch__cluster_scheduling_policy,launch__cluster_max_potential_size,launch__cluster_max_active,gpu__dram_throughput.avg.pct_of_peak_sustained_elapsed,dram__cycles_elapsed.avg.per_second --target-processes all --nvtx --nvtx-include \"generation/\" -o phi2 -f python ../src/models/phi2.py\n",
      "Done profiling phi2.py\n"
     ]
    }
   ],
   "source": [
    "!mkdir -p ncu-reports\n",
    "\n",
    "# Generating a ncu report for each model\n",
    "NVTX_RANGE = \"generation/\"\n",
    "BASE_PATH = \"../src/models/\"\n",
    "MODELS = [\n",
    "    \"phi2.py\",\n",
    "    \"phi3.5.py\",\n",
    "    \"orca-mini-7b.py\",\n",
    "    \"jamba1.5.mini.py\",\n",
    "    \"flux.py\",\n",
    "    \"llama70B.py\",\n",
    "]\n",
    "SPEEDUP_PARAMS = \"--replay-mode application --warp-sampling-max-passes 1\"\n",
    "SLEEP_TIME = 10 * 60 # 10 minutes\n",
    "\n",
    "def clean_up_model_name(model_name: str) -> str:\n",
    "    return model_name.replace(\".py\", \"\").replace(\".\", \"\")\n",
    "\n",
    "diff = {}\n",
    "\n",
    "for model in MODELS:\n",
    "    print(f\"Profiling {model}\")\n",
    "\n",
    "    model_name = clean_up_model_name(model)\n",
    "    model_path = os.path.join(BASE_PATH, model)\n",
    "\n",
    "    start_time = time()\n",
    "    \n",
    "    print(f'ncu {SPEEDUP_PARAMS} --sampling-interval auto --sampling-max-passes 5 --section SpeedOfLight --app-replay-buffer memory --apply-rules no --metrics sm__warps_active.avg.per_cycle_active,sm__warps_active.avg.pct_of_peak_sustained_active,sm__throughput.avg.pct_of_peak_sustained_elapsed,sm__maximum_warps_per_active_cycle_pct,sm__maximum_warps_avg_per_active_cycle,sm__cycles_active.avg,lts__throughput.avg.pct_of_peak_sustained_elapsed,launch__waves_per_multiprocessor,launch__thread_count,launch__shared_mem_per_block_static,launch__shared_mem_per_block_dynamic,launch__shared_mem_per_block_driver,launch__shared_mem_per_block,launch__shared_mem_config_size,launch__registers_per_thread,launch__occupancy_per_shared_mem_size,launch__occupancy_per_register_count,launch__occupancy_per_block_size,launch__occupancy_limit_warps,launch__occupancy_limit_shared_mem,launch__occupancy_limit_registers,launch__occupancy_limit_blocks,launch__grid_size,launch__func_cache_config,launch__block_size,l1tex__throughput.avg.pct_of_peak_sustained_active,gpu__time_duration.sum,gpu__compute_memory_throughput.avg.pct_of_peak_sustained_elapsed,gpc__cycles_elapsed.max,gpc__cycles_elapsed.avg.per_second,breakdown:sm__throughput.avg.pct_of_peak_sustained_elapsed,breakdown:gpu__compute_memory_throughput.avg.pct_of_peak_sustained_elapsed,launch__occupancy_per_cluster_size,launch__occupancy_cluster_pct,launch__occupancy_cluster_gpu_pct,launch__cluster_size,launch__cluster_scheduling_policy,launch__cluster_max_potential_size,launch__cluster_max_active,gpu__dram_throughput.avg.pct_of_peak_sustained_elapsed,dram__cycles_elapsed.avg.per_second --target-processes all --nvtx --nvtx-include \"{NVTX_RANGE}\" -o {model_name} -f python {model_path}')\n",
    "\n",
    "    end_time = time()\n",
    "\n",
    "    diff[model] = end_time - start_time\n",
    "    \n",
    "    print(f\"Done profiling {model}\")\n",
    "    break"
   ]
  },
  {
   "cell_type": "code",
   "execution_count": null,
   "id": "b63a386b-b395-41f8-89c3-5f7c09ae18c9",
   "metadata": {},
   "outputs": [],
   "source": []
  }
 ],
 "metadata": {
  "kernelspec": {
   "display_name": "Python 3 (ipykernel)",
   "language": "python",
   "name": "python3"
  },
  "language_info": {
   "codemirror_mode": {
    "name": "ipython",
    "version": 3
   },
   "file_extension": ".py",
   "mimetype": "text/x-python",
   "name": "python",
   "nbconvert_exporter": "python",
   "pygments_lexer": "ipython3",
   "version": "3.10.12"
  }
 },
 "nbformat": 4,
 "nbformat_minor": 5
}
