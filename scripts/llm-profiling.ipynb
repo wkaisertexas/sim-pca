{
 "cells": [
  {
   "cell_type": "markdown",
   "id": "9289da00-9402-4ca8-baa6-30507db492fe",
   "metadata": {},
   "source": [
    "# LLM Profiling\n",
    "\n",
    "Launching the large language models which are contained in `src/models` and using NSightCompute to profile their kernels on an **NVIDIA H100**.\n",
    "\n",
    "The goal of this is to perform principle component analysis (PCA) to examine new large language model kernels in comparision to existing GPU benchmark suites such as Rodinia."
   ]
  },
  {
   "cell_type": "code",
   "execution_count": 1,
   "id": "d76c9097-502c-4db8-928c-3d2ee8cca94f",
   "metadata": {},
   "outputs": [
    {
     "name": "stdout",
     "output_type": "stream",
     "text": [
      "Testing\n"
     ]
    }
   ],
   "source": [
    "from glob import glob\n",
    "import os\n",
    "import subprocess\n",
    "\n",
    "import pandas as pd\n",
    "import numpy as np\n",
    "from time import time\n",
    "\n",
    "import matplotlib.pyplot as plt\n",
    "\n",
    "print(\"Testing\")"
   ]
  },
  {
   "cell_type": "code",
   "execution_count": null,
   "id": "935c3ac0-4b69-4399-bf94-1bc67f884b4b",
   "metadata": {},
   "outputs": [
    {
     "name": "stdout",
     "output_type": "stream",
     "text": [
      "Profiling phi2.py\n"
     ]
    },
    {
     "name": "stderr",
     "output_type": "stream",
     "text": [
      "/u/xbk6xm/.local/lib/python3.10/site-packages/transformers/utils/hub.py:127: FutureWarning: Using `TRANSFORMERS_CACHE` is deprecated and will be removed in v5 of Transformers. Use `HF_HOME` instead.\n",
      "  warnings.warn(\n"
     ]
    },
    {
     "name": "stdout",
     "output_type": "stream",
     "text": [
      "==PROF== Connected to process 1140604 (/usr/bin/python3.10)\n",
      "==PROF== Target process 1140850 terminated before first instrumented API call.\n",
      "==PROF== Target process 1140851 terminated before first instrumented API call.\n"
     ]
    },
    {
     "name": "stderr",
     "output_type": "stream",
     "text": [
      "Downloading shards: 100%|██████████| 2/2 [00:00<00:00, 171.56it/s]\n",
      "Loading checkpoint shards: 100%|██████████| 2/2 [00:01<00:00,  1.82it/s]\n",
      "The attention mask and the pad token id were not set. As a consequence, you may observe unexpected behavior. Please pass your input's `attention_mask` to obtain reliable results.\n",
      "Setting `pad_token_id` to `eos_token_id`:50256 for open-end generation.\n"
     ]
    },
    {
     "name": "stdout",
     "output_type": "stream",
     "text": [
      "==PROF== Profiling \"vectorized_elementwise_kernel\" - 0 (1/50): 0%\n",
      "==WARNING== An error was reported by the driver\n",
      "\n",
      "==WARNING== Backing up device memory in system memory. Kernel replay might be slow. Consider using \"--replay-mode application\" to avoid memory save-and-restore.\n",
      "....50%....100% - 9 passes\n",
      "==PROF== Profiling \"vectorized_elementwise_kernel\" - 1 (2/50): 0%....50%....100% - 9 passes\n",
      "==PROF== Profiling \"vectorized_elementwise_kernel\" - 2 (3/50): "
     ]
    },
    {
     "name": "stderr",
     "output_type": "stream",
     "text": [
      "The attention mask is not set and cannot be inferred from input because pad token is same as eos token. As a consequence, you may observe unexpected behavior. Please pass your input's `attention_mask` to obtain reliable results.\n"
     ]
    },
    {
     "name": "stdout",
     "output_type": "stream",
     "text": [
      "0%....50%....100% - 9 passes\n",
      "==PROF== Profiling \"vectorized_elementwise_kernel\" - 3 (4/50): 0%....50%....100% - 9 passes\n",
      "==PROF== Profiling \"vectorized_elementwise_kernel\" - 4 (5/50): 0%....50%....100% - 9 passes\n",
      "==PROF== Profiling \"elementwise_kernel\" - 5 (6/50): 0%....50%....100% - 9 passes\n",
      "==PROF== Profiling \"reduce_kernel\" - 6 (7/50): 0%....50%....100% - 9 passes\n",
      "==PROF== Profiling \"reduce_kernel\" - 7 (8/50): 0%....50%....100% - 9 passes\n",
      "==PROF== Profiling \"vectorized_elementwise_kernel\" - 8 (9/50): 0%....50%....100% - 9 passes\n",
      "==PROF== Profiling \"vectorized_elementwise_kernel\" - 9 (10/50): 0%....50%....100% - 9 passes\n",
      "==PROF== Profiling \"vectorized_elementwise_kernel\" - 10 (11/50): 0%....50%....100% - 9 passes\n",
      "==PROF== Profiling \"vectorized_elementwise_kernel\" - 11 (12/50): 0%....50%....100% - 9 passes\n",
      "==PROF== Profiling \"elementwise_kernel\" - 12 (13/50): 0%....50%....100% - 9 passes\n",
      "==PROF== Profiling \"unrolled_elementwise_kernel\" - 13 (14/50): 0%....50%....100% - 9 passes\n",
      "==PROF== Profiling \"elementwise_kernel\" - 14 (15/50): 0%....50%....100% - 9 passes\n",
      "==PROF== Profiling \"vectorized_elementwise_kernel\" - 15 (16/50): 0%....50%....100% - 9 passes\n",
      "==PROF== Profiling \"elementwise_kernel\" - 16 (17/50): 0%....50%....100% - 9 passes\n",
      "==PROF== Profiling \"vectorized_elementwise_kernel\" - 17 (18/50): 0%....50%....100% - 9 passes\n",
      "==PROF== Profiling \"vectorized_elementwise_kernel\" - 18 (19/50): 0%....50%....100% - 9 passes\n",
      "==PROF== Profiling \"vectorized_elementwise_kernel\" - 19 (20/50): 0%....50%....100% - 9 passes\n",
      "==PROF== Profiling \"DeviceScanInitKernel\" - 20 (21/50): 0%....50%....100% - 9 passes\n",
      "==PROF== Profiling \"DeviceScanKernel\" - 21 (22/50): 0%....50%....100% - 9 passes\n",
      "==PROF== Profiling \"vectorized_elementwise_kernel\" - 22 (23/50): 0%....50%....100% - 9 passes\n",
      "==PROF== Profiling \"DeviceScanInitKernel\" - 23 (24/50): 0%....50%....100% - 9 passes\n",
      "==PROF== Profiling \"DeviceScanKernel\" - 24 (25/50): 0%....50%....100% - 9 passes\n",
      "==PROF== Profiling \"vectorized_elementwise_kernel\" - 25 (26/50): 0%....50%....100% - 9 passes\n",
      "==PROF== Profiling \"vectorized_elementwise_kernel\" - 26 (27/50): 0%....50%....100% - 9 passes\n",
      "==PROF== Profiling \"vectorized_elementwise_kernel\" - 27 (28/50): 0%....50%....100% - 9 passes\n",
      "==PROF== Profiling \"indexSelectSmallIndex\" - 28 (29/50): 0%....50%....100% - 9 passes\n",
      "==PROF== Profiling \"vectorized_elementwise_kernel\" - 29 (30/50): 0%....50%....100% - 9 passes\n",
      "==PROF== Profiling \"reduce_kernel\" - 30 (31/50): 0%....50%....100% - 9 passes\n",
      "==PROF== Profiling \"vectorized_layer_norm_kernel\" - 31 (32/50): 0%....50%....100% - 9 passes\n",
      "==PROF== Profiling \"sm80_xmma_gemm_f16f16_f16f32_...\" - 32 (33/50): 0%....50%....100% - 9 passes\n",
      "==PROF== Profiling \"sm80_xmma_gemm_f16f16_f16f32_...\" - 33 (34/50): 0%....50%....100% - 9 passes\n",
      "==PROF== Profiling \"sm80_xmma_gemm_f16f16_f16f32_...\" - 34 (35/50): 0%....50%....100% - 9 passes\n",
      "==PROF== Profiling \"index_elementwise_kernel\" - 35 (36/50): 0%....50%....100% - 9 passes\n",
      "==PROF== Profiling \"index_elementwise_kernel\" - 36 (37/50): 0%....50%....100% - 9 passes\n",
      "==PROF== Profiling \"elementwise_kernel\" - 37 (38/50): 0%....50%....100% - 9 passes\n",
      "==PROF== Profiling \"elementwise_kernel\" - 38 (39/50): 0%....50%....100% - 9 passes\n",
      "==PROF== Profiling \"CatArrayBatchedCopy\" - 39 (40/50): 0%....50%....100% - 9 passes\n",
      "==PROF== Profiling \"elementwise_kernel\" - 40 (41/50): 0%....50%....100% - 9 passes\n",
      "==PROF== Profiling \"elementwise_kernel\" - 41 (42/50): 0%....50%....100% - 9 passes\n",
      "==PROF== Profiling \"elementwise_kernel\" - 42 (43/50): 0%....50%....100% - 9 passes\n",
      "==PROF== Profiling \"elementwise_kernel\" - 43 (44/50): 0%....50%....100% - 9 passes\n",
      "==PROF== Profiling \"CatArrayBatchedCopy\" - 44 (45/50): 0%....50%....100% - 9 passes\n",
      "==PROF== Profiling \"elementwise_kernel\" - 45 (46/50): 0%....50%....100% - 9 passes\n",
      "==PROF== Profiling \"elementwise_kernel\" - 46 (47/50): 0%....50%....100% - 9 passes\n",
      "==PROF== Profiling \"CatArrayBatchedCopy\" - 47 (48/50): 0%....50%....100% - 9 passes\n",
      "==PROF== Profiling \"CatArrayBatchedCopy\" - 48 (49/50): 0%....50%....100% - 9 passes\n",
      "==PROF== Profiling \"flash_fwd_kernel\" - 49 (50/50): 0%....50%....100% - 9 passes\n",
      "What is 1+2?\n",
      "<|question_end|>Answer: 3\n",
      "<|endoftext|>\n",
      "==PROF== Disconnected from process 1140604\n",
      "==PROF== Report: /p/archgpuprofiling/sim-pca/scripts/ncu-reports/phi2.ncu-rep\n",
      "Done profiling phi2.py\n",
      "Profiling phi3.5.py\n"
     ]
    },
    {
     "name": "stderr",
     "output_type": "stream",
     "text": [
      "/u/xbk6xm/.local/lib/python3.10/site-packages/transformers/utils/hub.py:127: FutureWarning: Using `TRANSFORMERS_CACHE` is deprecated and will be removed in v5 of Transformers. Use `HF_HOME` instead.\n",
      "  warnings.warn(\n",
      "A new version of the following files was downloaded from https://huggingface.co/microsoft/Phi-3.5-MoE-instruct:\n",
      "- configuration_phimoe.py\n",
      ". Make sure to double-check they do not contain any added malicious code. To avoid downloading new versions of the code file, you can pin a revision.\n",
      "A new version of the following files was downloaded from https://huggingface.co/microsoft/Phi-3.5-MoE-instruct:\n",
      "- modeling_phimoe.py\n",
      ". Make sure to double-check they do not contain any added malicious code. To avoid downloading new versions of the code file, you can pin a revision.\n"
     ]
    },
    {
     "name": "stdout",
     "output_type": "stream",
     "text": [
      "==PROF== Connected to process 1142772 (/usr/bin/python3.10)\n",
      "==PROF== Target process 1143041 terminated before first instrumented API call.\n",
      "==PROF== Target process 1143042 terminated before first instrumented API call.\n"
     ]
    },
    {
     "name": "stderr",
     "output_type": "stream",
     "text": [
      "Downloading shards: 100%|██████████| 17/17 [00:00<00:00, 62.29it/s]\n",
      "Loading checkpoint shards: 100%|██████████| 17/17 [00:17<00:00,  1.01s/it]\n",
      "/u/xbk6xm/.local/lib/python3.10/site-packages/transformers/generation/configuration_utils.py:567: UserWarning: `do_sample` is set to `False`. However, `temperature` is set to `0.0` -- this flag is only used in sample-based generation modes. You should set `do_sample=True` or unset `temperature`.\n",
      "  warnings.warn(\n"
     ]
    },
    {
     "name": "stdout",
     "output_type": "stream",
     "text": [
      "==PROF== Profiling \"vectorized_elementwise_kernel\" - 0 (1/50): 0%\n",
      "==WARNING== An error was reported by the driver\n",
      "\n",
      "==WARNING== Backing up device memory in system memory. Kernel replay might be slow. Consider using \"--replay-mode application\" to avoid memory save-and-restore.\n",
      "....50%....100% - 9 passes\n",
      "==PROF== Profiling \"elementwise_kernel\" - 1 (2/50): 0%....50%....100% - 9 passes\n",
      "==PROF== Profiling \"reduce_kernel\" - 2 (3/50): 0%....50%....100% - 9 passes\n",
      "==PROF== Profiling \"reduce_kernel\" - 3 (4/50): 0%....50%....100% - 9 passes\n",
      "==PROF== Profiling \"vectorized_elementwise_kernel\" - 4 (5/50): 0%....50%....100% - 9 passes\n",
      "==PROF== Profiling \"reduce_kernel\" - 5 (6/50): 0%....50%....100% - 9 passes\n",
      "==PROF== Profiling \"vectorized_elementwise_kernel\" - 6 (7/50): 0%....50%....100% - 9 passes\n",
      "==PROF== Profiling \"vectorized_elementwise_kernel\" - 7 (8/50): 0%....50%....100% - 9 passes\n",
      "==PROF== Profiling \"DeviceScanInitKernel\" - 8 (9/50): 0%....50%....100% - 9 passes\n",
      "==PROF== Profiling \"DeviceScanKernel\" - 9 (10/50): 0%....50%....100% - 9 passes\n",
      "==PROF== Profiling \"vectorized_elementwise_kernel\" - 10 (11/50): 0%....50%....100% - 9 passes\n",
      "==PROF== Profiling \"DeviceScanInitKernel\" - 11 (12/50): "
     ]
    },
    {
     "name": "stderr",
     "output_type": "stream",
     "text": [
      "The `seen_tokens` attribute is deprecated and will be removed in v4.41. Use the `cache_position` model input instead.\n"
     ]
    },
    {
     "name": "stdout",
     "output_type": "stream",
     "text": [
      "0%....50%....100% - 9 passes\n",
      "==PROF== Profiling \"DeviceScanKernel\" - 12 (13/50): 0%....50%....100% - 9 passes\n",
      "==PROF== Profiling \"vectorized_elementwise_kernel\" - 13 (14/50): 0%....50%....100% - 9 passes\n",
      "==PROF== Profiling \"vectorized_elementwise_kernel\" - 14 (15/50): 0%....50%....100% - 9 passes\n",
      "==PROF== Profiling \"vectorized_elementwise_kernel\" - 15 (16/50): 0%....50%....100% - 9 passes\n",
      "==PROF== Profiling \"indexSelectLargeIndex\" - 16 (17/50): 0%....50%....100% - 9 passes\n",
      "==PROF== Profiling \"vectorized_elementwise_kernel\" - 17 (18/50): "
     ]
    }
   ],
   "source": [
    "!mkdir -p ncu-reports\n",
    "\n",
    "# Generating a ncu report for each model\n",
    "NVTX_RANGE = \"generation/\"\n",
    "BASE_PATH = \"../src/models/\"\n",
    "MODELS = [\n",
    "    \"phi2.py\",\n",
    "    \"phi3.5.py\",\n",
    "    \"orca-mini-7b.py\",\n",
    "    \"jamba1.5.mini.py\",\n",
    "    \"flux.py\",\n",
    "    \"llama70B.py\",\n",
    "]\n",
    "COUNT = 50 # 300 kernels should be next\n",
    "\n",
    "def clean_up_model_name(model_name: str) -> str:\n",
    "    return model_name.replace(\".py\", \"\").replace(\".\", \"\")\n",
    "\n",
    "diff = {}\n",
    "\n",
    "for model in MODELS:\n",
    "    print(f\"Profiling {model}\")\n",
    "\n",
    "    model_name = clean_up_model_name(model)\n",
    "    model_path = os.path.join(BASE_PATH, model)\n",
    "\n",
    "    start_time = time()\n",
    "    \n",
    "    os.system(f'ncu --metrics sm__warps_active.avg.per_cycle_active,sm__warps_active.avg.pct_of_peak_sustained_active,sm__throughput.avg.pct_of_peak_sustained_elapsed,sm__maximum_warps_per_active_cycle_pct,sm__maximum_warps_avg_per_active_cycle,sm__cycles_active.avg,lts__throughput.avg.pct_of_peak_sustained_elapsed,launch__waves_per_multiprocessor,launch__thread_count,launch__shared_mem_per_block_static,launch__shared_mem_per_block_dynamic,launch__shared_mem_per_block_driver,launch__shared_mem_per_block,launch__shared_mem_config_size,launch__registers_per_thread,launch__occupancy_per_shared_mem_size,launch__occupancy_per_register_count,launch__occupancy_per_block_size,launch__occupancy_limit_warps,launch__occupancy_limit_shared_mem,launch__occupancy_limit_registers,launch__occupancy_limit_blocks,launch__grid_size,launch__func_cache_config,launch__block_size,l1tex__throughput.avg.pct_of_peak_sustained_active,gpu__time_duration.sum,gpu__compute_memory_throughput.avg.pct_of_peak_sustained_elapsed,gpc__cycles_elapsed.max,gpc__cycles_elapsed.avg.per_second,breakdown:sm__throughput.avg.pct_of_peak_sustained_elapsed,breakdown:gpu__compute_memory_throughput.avg.pct_of_peak_sustained_elapsed,launch__occupancy_per_cluster_size,launch__occupancy_cluster_pct,launch__occupancy_cluster_gpu_pct,launch__cluster_size,launch__cluster_scheduling_policy,launch__cluster_max_potential_size,launch__cluster_max_active,gpu__dram_throughput.avg.pct_of_peak_sustained_elapsed,dram__cycles_elapsed.avg.per_second --target-processes all --nvtx --nvtx-include \"{NVTX_RANGE}\" -c {COUNT} -o ncu-reports/{model_name} -f python {model_path}')\n",
    "\n",
    "    diff[model] = time() - start_time\n",
    "    \n",
    "    print(f\"Done profiling {model}\")"
   ]
  },
  {
   "cell_type": "code",
   "execution_count": null,
   "id": "b63a386b-b395-41f8-89c3-5f7c09ae18c9",
   "metadata": {},
   "outputs": [],
   "source": []
  }
 ],
 "metadata": {
  "kernelspec": {
   "display_name": "Python 3 (ipykernel)",
   "language": "python",
   "name": "python3"
  },
  "language_info": {
   "codemirror_mode": {
    "name": "ipython",
    "version": 3
   },
   "file_extension": ".py",
   "mimetype": "text/x-python",
   "name": "python",
   "nbconvert_exporter": "python",
   "pygments_lexer": "ipython3",
   "version": "3.10.12"
  }
 },
 "nbformat": 4,
 "nbformat_minor": 5
}
